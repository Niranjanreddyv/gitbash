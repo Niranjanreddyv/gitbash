{
 "cells": [
  {
   "cell_type": "code",
   "execution_count": 1,
   "id": "ca72245e-06c1-4372-bd66-9ae7a9327e05",
   "metadata": {},
   "outputs": [
    {
     "name": "stdout",
     "output_type": "stream",
     "text": [
      "Hello World\n"
     ]
    }
   ],
   "source": [
    "print(\"Hello World\")"
   ]
  },
  {
   "cell_type": "code",
   "execution_count": null,
   "id": "4e54c3ea-3c29-4d94-9ace-371fef5729ac",
   "metadata": {},
   "outputs": [],
   "source": []
  },
  {
   "cell_type": "code",
   "execution_count": 2,
   "id": "1755315c-12da-4e80-8215-3ea42f449e98",
   "metadata": {},
   "outputs": [
    {
     "name": "stdout",
     "output_type": "stream",
     "text": [
      "Hello Niranjan\n"
     ]
    }
   ],
   "source": [
    "print(\"Hello Niranjan\")"
   ]
  },
  {
   "cell_type": "code",
   "execution_count": 3,
   "id": "42767f7a-e01f-44a7-b2d3-06a3290da0ca",
   "metadata": {},
   "outputs": [
    {
     "name": "stdout",
     "output_type": "stream",
     "text": [
      "3\n"
     ]
    }
   ],
   "source": [
    "q=3\n",
    "print(q)"
   ]
  },
  {
   "cell_type": "code",
   "execution_count": 8,
   "id": "c2e0d7f3-0273-47aa-9c69-400e920363ac",
   "metadata": {},
   "outputs": [
    {
     "ename": "SyntaxError",
     "evalue": "invalid syntax (2866269247.py, line 1)",
     "output_type": "error",
     "traceback": [
      "\u001b[1;36m  Input \u001b[1;32mIn [8]\u001b[1;36m\u001b[0m\n\u001b[1;33m    4q = 5 # don't start variable with num\u001b[0m\n\u001b[1;37m     ^\u001b[0m\n\u001b[1;31mSyntaxError\u001b[0m\u001b[1;31m:\u001b[0m invalid syntax\n"
     ]
    }
   ],
   "source": [
    "4q = 5 # don't start variable with num\n",
    "print(4d)"
   ]
  },
  {
   "cell_type": "code",
   "execution_count": 5,
   "id": "98373e7b-7fbe-4b58-a282-50294a259755",
   "metadata": {},
   "outputs": [
    {
     "name": "stdout",
     "output_type": "stream",
     "text": [
      "20\n"
     ]
    }
   ],
   "source": [
    "nira_12 = 20\n",
    "print(nira_12)"
   ]
  },
  {
   "cell_type": "code",
   "execution_count": 7,
   "id": "8dbd2ce0-2576-45be-8950-f5952efc47bd",
   "metadata": {},
   "outputs": [
    {
     "name": "stdout",
     "output_type": "stream",
     "text": [
      "\n",
      "Here is a list of the Python keywords.  Enter any keyword to get more help.\n",
      "\n",
      "False               break               for                 not\n",
      "None                class               from                or\n",
      "True                continue            global              pass\n",
      "__peg_parser__      def                 if                  raise\n",
      "and                 del                 import              return\n",
      "as                  elif                in                  try\n",
      "assert              else                is                  while\n",
      "async               except              lambda              with\n",
      "await               finally             nonlocal            yield\n",
      "\n"
     ]
    }
   ],
   "source": [
    "help(\"keywords\") # thess  are all key words we do not use for assine to variables"
   ]
  },
  {
   "cell_type": "code",
   "execution_count": 9,
   "id": "b58c5941-0d80-4588-9bb5-7ae28ab2c446",
   "metadata": {},
   "outputs": [
    {
     "ename": "SyntaxError",
     "evalue": "invalid syntax (198613559.py, line 1)",
     "output_type": "error",
     "traceback": [
      "\u001b[1;36m  Input \u001b[1;32mIn [9]\u001b[1;36m\u001b[0m\n\u001b[1;33m    for = 89\u001b[0m\n\u001b[1;37m        ^\u001b[0m\n\u001b[1;31mSyntaxError\u001b[0m\u001b[1;31m:\u001b[0m invalid syntax\n"
     ]
    }
   ],
   "source": [
    "for = 89"
   ]
  },
  {
   "cell_type": "code",
   "execution_count": 10,
   "id": "a83aaa06-43c0-499a-9685-939e5d18d069",
   "metadata": {},
   "outputs": [
    {
     "name": "stdout",
     "output_type": "stream",
     "text": [
      "1703905552816\n"
     ]
    }
   ],
   "source": [
    "x = 5\n",
    "print(id(x))"
   ]
  },
  {
   "cell_type": "code",
   "execution_count": 11,
   "id": "aff4e485-31e9-4f73-aa00-6131d1437026",
   "metadata": {},
   "outputs": [
    {
     "data": {
      "text/plain": [
       "1703905554096"
      ]
     },
     "execution_count": 11,
     "metadata": {},
     "output_type": "execute_result"
    }
   ],
   "source": [
    "x = 45\n",
    "id(x)"
   ]
  },
  {
   "cell_type": "code",
   "execution_count": 12,
   "id": "b9610730-c037-4e46-8c69-ea48cf1bfb2c",
   "metadata": {},
   "outputs": [
    {
     "name": "stdout",
     "output_type": "stream",
     "text": [
      "45\n"
     ]
    }
   ],
   "source": [
    "print(x)"
   ]
  },
  {
   "cell_type": "code",
   "execution_count": 13,
   "id": "822cefb6-49d0-4649-85aa-df37f5362d6d",
   "metadata": {},
   "outputs": [
    {
     "name": "stdout",
     "output_type": "stream",
     "text": [
      "1703905554096\n"
     ]
    }
   ],
   "source": [
    "name = \"rahul\"\n",
    "print(id(x))"
   ]
  },
  {
   "cell_type": "code",
   "execution_count": 14,
   "id": "0babcffc-a043-4f9f-87e1-adf8a5ee3455",
   "metadata": {},
   "outputs": [
    {
     "name": "stdout",
     "output_type": "stream",
     "text": [
      "rahul\n"
     ]
    }
   ],
   "source": [
    "print(name)"
   ]
  },
  {
   "cell_type": "code",
   "execution_count": null,
   "id": "dcd21221-df4f-4a21-9025-1d8c6d46baed",
   "metadata": {
    "tags": []
   },
   "outputs": [],
   "source": [
    "# Integers\n",
    "# type of variable"
   ]
  },
  {
   "cell_type": "code",
   "execution_count": 16,
   "id": "7915cf52-b82e-45a3-9900-57e37c2d78c4",
   "metadata": {},
   "outputs": [
    {
     "name": "stdout",
     "output_type": "stream",
     "text": [
      "24\n",
      "<class 'int'>\n"
     ]
    }
   ],
   "source": [
    "a = 24\n",
    "print(a)\n",
    "print(type(a))"
   ]
  },
  {
   "cell_type": "code",
   "execution_count": 17,
   "id": "e79ed613-641e-4d4e-b2d2-32fef7c7f03a",
   "metadata": {},
   "outputs": [
    {
     "name": "stdout",
     "output_type": "stream",
     "text": [
      "2.33\n",
      "<class 'float'>\n"
     ]
    }
   ],
   "source": [
    "# float\n",
    "a = 2.33\n",
    "print(a)\n",
    "print(type(a))"
   ]
  },
  {
   "cell_type": "code",
   "execution_count": 20,
   "id": "76f5a646-af83-4ebc-bc30-a8501ca5cef5",
   "metadata": {},
   "outputs": [
    {
     "name": "stdout",
     "output_type": "stream",
     "text": [
      "<class 'bool'>\n",
      "True\n"
     ]
    }
   ],
   "source": [
    "# booleans\n",
    "b = True\n",
    "print(type(b))\n",
    "print(b)"
   ]
  },
  {
   "cell_type": "code",
   "execution_count": 21,
   "id": "b484a9c9-bf07-4ef4-8f3d-b651035893e2",
   "metadata": {},
   "outputs": [
    {
     "name": "stdout",
     "output_type": "stream",
     "text": [
      "<class 'bool'>\n"
     ]
    }
   ],
   "source": [
    "b1 = False\n",
    "print(type(b1))"
   ]
  },
  {
   "cell_type": "code",
   "execution_count": 22,
   "id": "bf4040c4-ae7c-475d-b896-84031f6acd1b",
   "metadata": {},
   "outputs": [
    {
     "name": "stdout",
     "output_type": "stream",
     "text": [
      "<class 'str'>\n",
      "niranjan 123 @+\n"
     ]
    }
   ],
   "source": [
    "# strings\n",
    "s = \"niranjan 123 @+\"\n",
    "print(type(s))\n",
    "print(s)"
   ]
  },
  {
   "cell_type": "code",
   "execution_count": 24,
   "id": "ea42504f-0c8e-4cc7-b78d-53b8ab8f7402",
   "metadata": {},
   "outputs": [
    {
     "name": "stdout",
     "output_type": "stream",
     "text": [
      "<class 'str'>\n",
      "\n",
      "this is multiline string\n",
      "\n",
      "\n"
     ]
    }
   ],
   "source": [
    "# multiline string\n",
    "m = \"\"\"\n",
    "this is multiline string\n",
    "\n",
    "\"\"\"\n",
    "print(type(m))\n",
    "print(m)"
   ]
  },
  {
   "cell_type": "code",
   "execution_count": 25,
   "id": "ffed4049-0846-4379-aa45-fdcc54861aed",
   "metadata": {},
   "outputs": [
    {
     "name": "stdout",
     "output_type": "stream",
     "text": [
      "None\n",
      "<class 'NoneType'>\n"
     ]
    }
   ],
   "source": [
    "# none \n",
    "n = None\n",
    "print(n)\n",
    "print(type(n))"
   ]
  },
  {
   "cell_type": "code",
   "execution_count": 26,
   "id": "ecd7968f-b488-4b20-98ab-5daab19bf764",
   "metadata": {},
   "outputs": [
    {
     "name": "stdin",
     "output_type": "stream",
     "text": [
      " Niranjan\n"
     ]
    }
   ],
   "source": [
    "# input using input\n",
    "name1 = input()"
   ]
  },
  {
   "cell_type": "code",
   "execution_count": 28,
   "id": "56a2c40f-d9f2-47a4-9473-b8c854a6e101",
   "metadata": {},
   "outputs": [
    {
     "name": "stdout",
     "output_type": "stream",
     "text": [
      "Niranjan\n",
      "<class 'str'>\n"
     ]
    }
   ],
   "source": [
    "print(name1)\n",
    "print(type(name1))"
   ]
  },
  {
   "cell_type": "code",
   "execution_count": 1,
   "id": "3c35093c-eab8-4b72-9fc0-0326af798376",
   "metadata": {},
   "outputs": [
    {
     "name": "stdout",
     "output_type": "stream",
     "text": [
      "Hello niranjan\n"
     ]
    }
   ],
   "source": [
    "print(\"Hello niranjan\")"
   ]
  },
  {
   "cell_type": "code",
   "execution_count": 2,
   "id": "8c443d51",
   "metadata": {},
   "outputs": [
    {
     "name": "stdout",
     "output_type": "stream",
     "text": [
      "Rahul Ram 25 26 88.8 90\n"
     ]
    }
   ],
   "source": [
    "print(\"Rahul\",\"Ram\", 25,26,88.8,90)"
   ]
  },
  {
   "cell_type": "code",
   "execution_count": 3,
   "id": "dd319d21",
   "metadata": {},
   "outputs": [
    {
     "name": "stdout",
     "output_type": "stream",
     "text": [
      "rahul 25\n",
      "Ram 24\n"
     ]
    }
   ],
   "source": [
    "print(\"rahul\",25)\n",
    "print('Ram',24)"
   ]
  },
  {
   "cell_type": "code",
   "execution_count": 4,
   "id": "1385f658",
   "metadata": {},
   "outputs": [],
   "source": [
    "#print?"
   ]
  },
  {
   "cell_type": "code",
   "execution_count": 6,
   "id": "9b51b1ba",
   "metadata": {},
   "outputs": [
    {
     "name": "stdout",
     "output_type": "stream",
     "text": [
      "Rahul#Ram#25#26#88.8#90\n"
     ]
    }
   ],
   "source": [
    "print(\"Rahul\",\"Ram\", 25,26,88.8,90,sep=\"#\")"
   ]
  },
  {
   "cell_type": "code",
   "execution_count": 8,
   "id": "d7880ca7",
   "metadata": {},
   "outputs": [
    {
     "name": "stdout",
     "output_type": "stream",
     "text": [
      "rahul@26\n"
     ]
    }
   ],
   "source": [
    "print(\"rahul\",26,sep=\"@\")"
   ]
  },
  {
   "cell_type": "code",
   "execution_count": 7,
   "id": "26b18693",
   "metadata": {},
   "outputs": [
    {
     "name": "stdout",
     "output_type": "stream",
     "text": [
      "rahul\n",
      "26\n"
     ]
    }
   ],
   "source": [
    "print(\"rahul\",26, sep=\"\\n\")"
   ]
  },
  {
   "cell_type": "code",
   "execution_count": 9,
   "id": "b9e2ca7b",
   "metadata": {},
   "outputs": [
    {
     "name": "stdout",
     "output_type": "stream",
     "text": [
      "Rahul\n",
      "Ram\n",
      "25\n",
      "26\n",
      "88.8\n",
      "90\n"
     ]
    }
   ],
   "source": [
    "print(\"Rahul\",\"Ram\", 25,26,88.8,90,sep=\"\\n\")"
   ]
  },
  {
   "cell_type": "code",
   "execution_count": null,
   "id": "ef33ae77",
   "metadata": {},
   "outputs": [],
   "source": [
    "#Changing defult values of seperator"
   ]
  },
  {
   "cell_type": "code",
   "execution_count": 12,
   "id": "f2b130ec",
   "metadata": {},
   "outputs": [
    {
     "name": "stdout",
     "output_type": "stream",
     "text": [
      "rahul 26$ramu 25\n"
     ]
    }
   ],
   "source": [
    "print(\"rahul\",26, end=\"$\")\n",
    "print(\"ramu\",25)"
   ]
  },
  {
   "cell_type": "code",
   "execution_count": 13,
   "id": "e2832d1a",
   "metadata": {},
   "outputs": [
    {
     "name": "stdout",
     "output_type": "stream",
     "text": [
      "rahul\n",
      "26->ramu 25\n"
     ]
    }
   ],
   "source": [
    "print(\"rahul\",26, sep=\"\\n\",end=\"->\")\n",
    "print(\"ramu\",25)"
   ]
  },
  {
   "cell_type": "code",
   "execution_count": null,
   "id": "fa470e74",
   "metadata": {},
   "outputs": [],
   "source": [
    "# arithematic Operators in ptyhon"
   ]
  },
  {
   "cell_type": "code",
   "execution_count": 18,
   "id": "857c84f5",
   "metadata": {},
   "outputs": [
    {
     "name": "stdout",
     "output_type": "stream",
     "text": [
      "8\n",
      "2\n",
      "1.6666666666666667\n"
     ]
    }
   ],
   "source": [
    "a = 5\n",
    "b = 3\n",
    "print(a+b)\n",
    "print(a-b)\n",
    "print(a/b)\n",
    "# division operator is allways yields float value"
   ]
  },
  {
   "cell_type": "code",
   "execution_count": 1,
   "id": "b020b6de",
   "metadata": {},
   "outputs": [
    {
     "data": {
      "text/plain": [
       "2.0"
      ]
     },
     "execution_count": 1,
     "metadata": {},
     "output_type": "execute_result"
    }
   ],
   "source": [
    "1.0 + 1.0"
   ]
  },
  {
   "cell_type": "code",
   "execution_count": 13,
   "id": "14e90534",
   "metadata": {},
   "outputs": [
    {
     "name": "stdout",
     "output_type": "stream",
     "text": [
      "NiranjanReddy\n"
     ]
    },
    {
     "data": {
      "text/plain": [
       "'NiranjanNiranjanNiranjan'"
      ]
     },
     "execution_count": 13,
     "metadata": {},
     "output_type": "execute_result"
    }
   ],
   "source": [
    "# string cancatination \n",
    "first =\"Niranjan\"\n",
    "last = \"Reddy\"\n",
    "print(first + last)\n",
    "first*3\n",
    "#first*first is error"
   ]
  },
  {
   "cell_type": "code",
   "execution_count": 12,
   "id": "83e5e159",
   "metadata": {},
   "outputs": [
    {
     "data": {
      "text/plain": [
       "str"
      ]
     },
     "execution_count": 12,
     "metadata": {},
     "output_type": "execute_result"
    }
   ],
   "source": [
    "type(\"1\")"
   ]
  },
  {
   "cell_type": "code",
   "execution_count": 8,
   "id": "e581376e",
   "metadata": {},
   "outputs": [
    {
     "name": "stdout",
     "output_type": "stream",
     "text": [
      "11\n"
     ]
    }
   ],
   "source": [
    "print(\"1\" +\"1\")"
   ]
  },
  {
   "cell_type": "code",
   "execution_count": null,
   "id": "8a689589",
   "metadata": {},
   "outputs": [],
   "source": [
    "# modulo % operator = remainder"
   ]
  },
  {
   "cell_type": "code",
   "execution_count": 17,
   "id": "2e1a3589",
   "metadata": {},
   "outputs": [
    {
     "name": "stdout",
     "output_type": "stream",
     "text": [
      "2\n",
      "0\n"
     ]
    }
   ],
   "source": [
    "a = 5\n",
    "b = 3\n",
    "print(a%b)\n",
    "print(10 % 10)"
   ]
  },
  {
   "cell_type": "code",
   "execution_count": null,
   "id": "562dd21f",
   "metadata": {},
   "outputs": [],
   "source": [
    "# // folor division , the result is floored to nearest smaller integer"
   ]
  },
  {
   "cell_type": "code",
   "execution_count": 19,
   "id": "5de0782a",
   "metadata": {},
   "outputs": [
    {
     "name": "stdout",
     "output_type": "stream",
     "text": [
      "5 3\n",
      "1\n",
      "-2\n"
     ]
    }
   ],
   "source": [
    "print(a, b)\n",
    "print(a//b)\n",
    "print(-3//2)"
   ]
  },
  {
   "cell_type": "code",
   "execution_count": 21,
   "id": "5490ce09",
   "metadata": {},
   "outputs": [
    {
     "name": "stdout",
     "output_type": "stream",
     "text": [
      "125\n",
      "8\n"
     ]
    }
   ],
   "source": [
    "# the power of the two values base and power\n",
    "print(a**b)\n",
    "print(2**3)"
   ]
  },
  {
   "cell_type": "code",
   "execution_count": null,
   "id": "f9410335-012d-4da8-b2d5-f98e68f17bb3",
   "metadata": {},
   "outputs": [],
   "source": [
    "# comparision operators"
   ]
  },
  {
   "cell_type": "code",
   "execution_count": 22,
   "id": "2ec8de2b-e929-4574-8b32-c420ec0afca1",
   "metadata": {},
   "outputs": [
    {
     "name": "stdout",
     "output_type": "stream",
     "text": [
      "False\n"
     ]
    }
   ],
   "source": [
    "a = 6\n",
    "b = 3\n",
    "print(a == b)"
   ]
  },
  {
   "cell_type": "code",
   "execution_count": 24,
   "id": "816d4092-484f-40f9-bdc4-2ff9def83b7e",
   "metadata": {},
   "outputs": [
    {
     "name": "stdout",
     "output_type": "stream",
     "text": [
      "False\n"
     ]
    }
   ],
   "source": [
    "print(3 ==4)"
   ]
  },
  {
   "cell_type": "code",
   "execution_count": 23,
   "id": "9306eacf-6e3b-42f5-a2c4-490d1fa5d286",
   "metadata": {},
   "outputs": [
    {
     "name": "stdout",
     "output_type": "stream",
     "text": [
      "True\n"
     ]
    }
   ],
   "source": [
    "print(3==3)"
   ]
  },
  {
   "cell_type": "code",
   "execution_count": 25,
   "id": "f6aab52b-df56-4cf5-a490-413f82629cad",
   "metadata": {},
   "outputs": [
    {
     "name": "stdout",
     "output_type": "stream",
     "text": [
      "True\n"
     ]
    }
   ],
   "source": [
    "print(a != b)"
   ]
  },
  {
   "cell_type": "code",
   "execution_count": 26,
   "id": "5f554584-bdcf-4faa-bb14-81990faa6033",
   "metadata": {},
   "outputs": [
    {
     "name": "stdout",
     "output_type": "stream",
     "text": [
      "False\n"
     ]
    }
   ],
   "source": [
    "print(3!=3)"
   ]
  },
  {
   "cell_type": "code",
   "execution_count": null,
   "id": "1d9cf292-fc5f-4f65-8f87-b02b393df78d",
   "metadata": {},
   "outputs": [],
   "source": [
    "# <, >"
   ]
  },
  {
   "cell_type": "code",
   "execution_count": 27,
   "id": "d0b26486-2da6-4a26-86f7-9a0972c95c30",
   "metadata": {},
   "outputs": [
    {
     "name": "stdout",
     "output_type": "stream",
     "text": [
      "True\n",
      "False\n"
     ]
    }
   ],
   "source": [
    "print(3<6)\n",
    "print(6>10)"
   ]
  },
  {
   "cell_type": "code",
   "execution_count": 28,
   "id": "19979de8-d3f5-4ecf-bc13-6f9f1801cba0",
   "metadata": {},
   "outputs": [
    {
     "name": "stdout",
     "output_type": "stream",
     "text": [
      "True\n",
      "True\n",
      "False\n"
     ]
    }
   ],
   "source": [
    "print(6>=3)\n",
    "print(3>=3)\n",
    "print(7<=1)"
   ]
  },
  {
   "cell_type": "code",
   "execution_count": null,
   "id": "915b357e-d35f-4abc-b928-878956684524",
   "metadata": {},
   "outputs": [],
   "source": [
    "#Assignment Operators"
   ]
  },
  {
   "cell_type": "code",
   "execution_count": 29,
   "id": "210a15e6-22c9-4b65-bd2c-13cda96b2c41",
   "metadata": {},
   "outputs": [
    {
     "name": "stdout",
     "output_type": "stream",
     "text": [
      "8\n"
     ]
    }
   ],
   "source": [
    "a = 5\n",
    "a = a+3\n",
    "print(a)"
   ]
  },
  {
   "cell_type": "code",
   "execution_count": 31,
   "id": "f17ed49f-1f6d-4741-a805-c4bb9a67e011",
   "metadata": {},
   "outputs": [
    {
     "name": "stdout",
     "output_type": "stream",
     "text": [
      "8\n"
     ]
    }
   ],
   "source": [
    "a = 5\n",
    "a +=3 # this mean a+= is equal to a = a+3\n",
    "print(a)"
   ]
  },
  {
   "cell_type": "code",
   "execution_count": 2,
   "id": "7fc1d73d-42c0-4c65-90e2-4e8552867fe0",
   "metadata": {},
   "outputs": [
    {
     "name": "stdout",
     "output_type": "stream",
     "text": [
      "6\n",
      "3.0\n"
     ]
    }
   ],
   "source": [
    "a = 10\n",
    "a -= 4\n",
    "print(a)\n",
    "a /= 2\n",
    "print(a)"
   ]
  },
  {
   "cell_type": "code",
   "execution_count": 1,
   "id": "9466d772-05b1-4190-bb0e-2e1aa070e0ba",
   "metadata": {},
   "outputs": [
    {
     "name": "stdout",
     "output_type": "stream",
     "text": [
      "a and b are equal\n"
     ]
    }
   ],
   "source": []
  },
  {
   "cell_type": "code",
   "execution_count": 4,
   "id": "6806e275-9942-43e7-86ef-c14169468f50",
   "metadata": {},
   "outputs": [
    {
     "ename": "ValueError",
     "evalue": "math domain error",
     "output_type": "error",
     "traceback": [
      "\u001b[1;31m---------------------------------------------------------------------------\u001b[0m",
      "\u001b[1;31mValueError\u001b[0m                                Traceback (most recent call last)",
      "Input \u001b[1;32mIn [4]\u001b[0m, in \u001b[0;36m<cell line: 2>\u001b[1;34m()\u001b[0m\n\u001b[0;32m      1\u001b[0m \u001b[38;5;28;01mimport\u001b[39;00m \u001b[38;5;21;01mmath\u001b[39;00m\n\u001b[1;32m----> 2\u001b[0m \u001b[38;5;28mprint\u001b[39m(\u001b[38;5;124m\"\u001b[39m\u001b[38;5;124msin\u001b[39m\u001b[38;5;124m\"\u001b[39m,\u001b[43mmath\u001b[49m\u001b[38;5;241;43m.\u001b[39;49m\u001b[43masin\u001b[49m\u001b[43m(\u001b[49m\u001b[38;5;241;43m1.5\u001b[39;49m\u001b[43m)\u001b[49m)\n",
      "\u001b[1;31mValueError\u001b[0m: math domain error"
     ]
    }
   ],
   "source": [
    "import math\n",
    "print(\"sin\",math.asin())"
   ]
  },
  {
   "cell_type": "code",
   "execution_count": null,
   "id": "474a2173-dceb-4f36-9196-649d8321ddc6",
   "metadata": {},
   "outputs": [],
   "source": []
  },
  {
   "cell_type": "code",
   "execution_count": null,
   "id": "f4ea962a-8481-47f8-9524-0e49517ed58c",
   "metadata": {},
   "outputs": [],
   "source": []
  },
  {
   "cell_type": "code",
   "execution_count": null,
   "id": "7cbc818e-becb-4c94-ae62-006ea8c31bd0",
   "metadata": {},
   "outputs": [],
   "source": []
  },
  {
   "cell_type": "code",
   "execution_count": null,
   "id": "4c57a7f2-7fc8-44d1-911d-7459a8aeba2d",
   "metadata": {},
   "outputs": [],
   "source": []
  },
  {
   "cell_type": "code",
   "execution_count": null,
   "id": "fc0fbc73-cdad-4d9a-b8d2-fd81f9ed1a35",
   "metadata": {},
   "outputs": [],
   "source": []
  }
 ],
 "metadata": {
  "kernelspec": {
   "display_name": "Python 3 (ipykernel)",
   "language": "python",
   "name": "python3"
  },
  "language_info": {
   "codemirror_mode": {
    "name": "ipython",
    "version": 3
   },
   "file_extension": ".py",
   "mimetype": "text/x-python",
   "name": "python",
   "nbconvert_exporter": "python",
   "pygments_lexer": "ipython3",
   "version": "3.9.12"
  },
  "toc-autonumbering": true,
  "toc-showcode": true,
  "toc-showmarkdowntxt": true
 },
 "nbformat": 4,
 "nbformat_minor": 5
}
